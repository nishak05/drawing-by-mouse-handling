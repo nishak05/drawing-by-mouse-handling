{
  "nbformat": 4,
  "nbformat_minor": 0,
  "metadata": {
    "colab": {
      "provenance": []
    },
    "kernelspec": {
      "name": "python3",
      "display_name": "Python 3"
    },
    "language_info": {
      "name": "python"
    }
  },
  "cells": [
    {
      "cell_type": "markdown",
      "source": [
        "black image with adjustable radius color thickness"
      ],
      "metadata": {
        "id": "Zs0LRsaFXfsE"
      }
    },
    {
      "cell_type": "code",
      "execution_count": null,
      "metadata": {
        "id": "Hfq0jhYIXJVl"
      },
      "outputs": [],
      "source": [
        "import cv2\n",
        "import numpy as np"
      ]
    },
    {
      "cell_type": "code",
      "source": [
        "drw=False\n",
        "radius=5\n",
        "t=1\n",
        "color=(0,255,0)\n"
      ],
      "metadata": {
        "id": "KnoKywWYXKlc"
      },
      "execution_count": null,
      "outputs": []
    },
    {
      "cell_type": "code",
      "source": [
        "def set(value):\n",
        "    global radius\n",
        "    radius=value\n",
        "\n",
        "def thick(val):\n",
        "    global t\n",
        "    t=val\n",
        "\n",
        "def blue(value):\n",
        "    global color\n",
        "    color=(value,color[1],color[2])\n",
        "\n",
        "def green(value):\n",
        "    global color\n",
        "    color=(color[0],value,color[2])\n",
        "\n",
        "def red(value):\n",
        "    global color\n",
        "    color=(color[0],color[1],value)\n",
        "\n",
        "def mouse(event,x,y,flags,param):\n",
        "    global drw\n",
        "\n",
        "    if event==cv2.EVENT_LBUTTONDOWN:\n",
        "        drw=True\n",
        "        cv2.circle(img,(x,y),radius,color,t)\n",
        "\n",
        "    elif event==cv2.EVENT_LBUTTONUP:\n",
        "        drw=False\n",
        "\n"
      ],
      "metadata": {
        "id": "P2fXjfLPXNbt"
      },
      "execution_count": null,
      "outputs": []
    },
    {
      "cell_type": "code",
      "source": [
        "img=np.zeros((512,512,3),np.uint8)\n",
        "cv2.namedWindow('frame')\n",
        "cv2.setMouseCallback('frame',mouse)"
      ],
      "metadata": {
        "id": "LqsY1i_jXTbz"
      },
      "execution_count": null,
      "outputs": []
    },
    {
      "cell_type": "code",
      "source": [
        "cv2.createTrackbar('radius','frame',radius,50,set)\n",
        "cv2.createTrackbar('thickness','frame',t,10,thick)\n",
        "cv2.createTrackbar('blue','frame',color[0],255,blue)\n",
        "cv2.createTrackbar('green','frame',color[1],255,green)\n",
        "cv2.createTrackbar('red','frame',color[2],255,red)\n"
      ],
      "metadata": {
        "id": "xRUc8l6XXWL7"
      },
      "execution_count": null,
      "outputs": []
    },
    {
      "cell_type": "code",
      "source": [
        "while(True):\n",
        "\n",
        "    cv2.imshow('frame',img)\n",
        "    if cv2.waitKey(1) & 0xFF ==ord('q'):\n",
        "        break\n"
      ],
      "metadata": {
        "id": "FPiOFTAPXZPe"
      },
      "execution_count": null,
      "outputs": []
    },
    {
      "cell_type": "code",
      "source": [
        "cv2.destroyAllWindows()"
      ],
      "metadata": {
        "id": "0ld90LKwXbz0"
      },
      "execution_count": null,
      "outputs": []
    }
  ]
}