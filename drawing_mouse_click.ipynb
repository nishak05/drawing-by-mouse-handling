{
  "nbformat": 4,
  "nbformat_minor": 0,
  "metadata": {
    "colab": {
      "provenance": []
    },
    "kernelspec": {
      "name": "python3",
      "display_name": "Python 3"
    },
    "language_info": {
      "name": "python"
    }
  },
  "cells": [
    {
      "cell_type": "code",
      "execution_count": null,
      "metadata": {
        "id": "Htn9sSIlWobW"
      },
      "outputs": [],
      "source": [
        "import cv2\n",
        "import numpy as np"
      ]
    },
    {
      "cell_type": "code",
      "source": [
        "def mouse(event,x,y,flags,param):\n",
        "    if event==cv2.EVENT_LBUTTONDOWN:\n",
        "        circles.append((x,y))\n",
        "cap=cv2.VideoCapture(0)"
      ],
      "metadata": {
        "id": "Atyxo-k9WqRr"
      },
      "execution_count": null,
      "outputs": []
    },
    {
      "cell_type": "code",
      "source": [
        "cv2.namedWindow('frame')\n",
        "cv2.setMouseCallback('frame',mouse)"
      ],
      "metadata": {
        "id": "nnLTTH1gWtYN"
      },
      "execution_count": null,
      "outputs": []
    },
    {
      "cell_type": "code",
      "source": [
        "circles=[]\n",
        "while(True):\n",
        "    _,frame=cap.read()\n",
        "\n",
        "    for cnt in circles:\n",
        "        cv2.circle(frame, cnt ,25, (0,255,0), 5)\n",
        "\n",
        "    cv2.imshow('frame',frame)\n",
        "    if cv2.waitKey(1) & 0xFF ==ord('q'):\n",
        "        break"
      ],
      "metadata": {
        "id": "PVby4ZipWxfy"
      },
      "execution_count": null,
      "outputs": []
    },
    {
      "cell_type": "code",
      "source": [
        "cap.release()\n",
        "\n",
        "cv2.destroyAllWindows()"
      ],
      "metadata": {
        "id": "EcKS5uY0W0Qn"
      },
      "execution_count": null,
      "outputs": []
    }
  ]
}